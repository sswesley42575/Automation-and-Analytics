{
  "nbformat": 4,
  "nbformat_minor": 2,
  "cells": [
    {
      "cell_type": "markdown",
      "metadata": {
        "nteract": {
          "transient": {
            "deleting": false
          }
        }
      },
      "source": [
        "### Reading data into spark data frame"
      ]
    },
    {
      "cell_type": "code",
      "execution_count": 1,
      "outputs": [],
      "metadata": {
        "jupyter": {
          "source_hidden": false,
          "outputs_hidden": false
        },
        "nteract": {
          "transient": {
            "deleting": false
          }
        }
      },
      "source": [
        "path = \"abfss://fscustransdevnorthcent@stcustransdevnorthcent.dfs.core.windows.net/silver/nationwide\"\r\n",
        "sdfNationwide = spark.read.parquet(path)"
      ]
    },
    {
      "cell_type": "markdown",
      "metadata": {
        "nteract": {
          "transient": {
            "deleting": false
          }
        }
      },
      "source": [
        "## Creating a temp view based on the sdfUPC data frame"
      ]
    },
    {
      "cell_type": "code",
      "execution_count": 2,
      "outputs": [],
      "metadata": {
        "jupyter": {
          "source_hidden": false,
          "outputs_hidden": false
        },
        "nteract": {
          "transient": {
            "deleting": false
          }
        },
        "collapsed": false
      },
      "source": [
        "sdfNationwide.createOrReplaceTempView(\"vwNationwide_raw\")"
      ]
    },
    {
      "cell_type": "markdown",
      "metadata": {
        "nteract": {
          "transient": {
            "deleting": false
          }
        }
      },
      "source": [
        "## Create status' for columns"
      ]
    },
    {
      "cell_type": "code",
      "execution_count": 3,
      "outputs": [],
      "metadata": {
        "jupyter": {
          "source_hidden": false,
          "outputs_hidden": false
        },
        "nteract": {
          "transient": {
            "deleting": false
          }
        },
        "microsoft": {
          "language": "sparksql"
        },
        "collapsed": false
      },
      "source": [
        "%%sql\r\n",
        "CREATE OR REPLACE TEMP VIEW vwNationwide\r\n",
        "AS \r\n",
        "SELECT\r\n",
        "    r.idx\r\n",
        "    ,r.AgencyNumber\r\n",
        "    ,r.NotificationType\r\n",
        "    ,r.DateVal\r\n",
        "    ,r.Insured\r\n",
        "    ,r.BillingAccountNumber\r\n",
        "    ,r.Policy\r\n",
        "    ,CASE\r\n",
        "        WHEN r.NotificationType = 'REINSTATE' THEN 'REINSTATED'\r\n",
        "        ELSE UPPER(r.Status)\r\n",
        "     END AS Status \r\n",
        "    ,r.CancelDate\r\n",
        "    ,r.Company\r\n",
        "    ,r.PaymentAcceptanceDate\r\n",
        "    ,r.TotalBalance\r\n",
        "    ,r.MinimumDue\r\n",
        "    ,r.NonSufficientFunds\r\n",
        "    ,r.DateReinstated\r\n",
        "    ,r.CancellationMailed\r\n",
        "    ,r.dateint\r\n",
        "FROM vwNationwide_raw r\r\n",
        "   "
      ]
    },
    {
      "cell_type": "markdown",
      "metadata": {
        "nteract": {
          "transient": {
            "deleting": false
          }
        }
      },
      "source": [
        "## Sets the silver databse for use"
      ]
    },
    {
      "cell_type": "code",
      "execution_count": 4,
      "outputs": [],
      "metadata": {
        "jupyter": {
          "source_hidden": false,
          "outputs_hidden": false
        },
        "nteract": {
          "transient": {
            "deleting": false
          }
        },
        "microsoft": {
          "language": "sparksql"
        },
        "collapsed": false
      },
      "source": [
        "%%sql\r\n",
        "USE silver"
      ]
    },
    {
      "cell_type": "markdown",
      "metadata": {
        "nteract": {
          "transient": {
            "deleting": false
          }
        }
      },
      "source": [
        "## Inserts column names and alias' into table \r\n",
        " \r\n",
        "\r\n",
        "\r\n",
        ""
      ]
    },
    {
      "cell_type": "code",
      "execution_count": 5,
      "outputs": [],
      "metadata": {
        "jupyter": {
          "source_hidden": false,
          "outputs_hidden": false
        },
        "nteract": {
          "transient": {
            "deleting": false
          }
        },
        "microsoft": {
          "language": "sparksql"
        },
        "collapsed": false
      },
      "source": [
        "%%sql \r\n",
        "INSERT INTO combine_data(agency_number, insured, company, date, policy_number, status)\r\n",
        "SELECT \r\n",
        "'37596' AS agency_number\r\n",
        ",insured\r\n",
        ",'Nationwide' AS company\r\n",
        ",date_format(to_date(dateval, 'MM/dd/yyyy'),'yyyyMMdd') as date\r\n",
        ",Policy AS policy_number\r\n",
        ",status\r\n",
        "FROM vwNationwide"
      ]
    },
    {
      "cell_type": "code",
      "execution_count": null,
      "outputs": [],
      "metadata": {
        "jupyter": {
          "source_hidden": false,
          "outputs_hidden": false
        },
        "nteract": {
          "transient": {
            "deleting": false
          }
        }
      },
      "source": [
        ""
      ]
    }
  ],
  "metadata": {
    "description": null,
    "save_output": true,
    "kernelspec": {
      "name": "synapse_pyspark",
      "display_name": "Synapse PySpark"
    },
    "language_info": {
      "name": "python"
    }
  }
}