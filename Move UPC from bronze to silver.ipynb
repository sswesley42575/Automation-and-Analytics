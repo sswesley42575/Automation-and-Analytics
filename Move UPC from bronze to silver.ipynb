{
  "nbformat": 4,
  "nbformat_minor": 2,
  "metadata": {
    "kernelspec": {
      "name": "synapse_pyspark",
      "display_name": "Synapse PySpark"
    },
    "language_info": {
      "name": "python"
    },
    "description": null,
    "save_output": true,
    "synapse_widget": {
      "version": "0.1",
      "state": {}
    }
  },
  "cells": [
    {
      "cell_type": "code",
      "execution_count": 1,
      "outputs": [
        {
          "output_type": "display_data",
          "data": {
            "application/vnd.livy.statement-meta+json": {
              "spark_pool": "sparkctprdnc",
              "session_id": "5",
              "statement_id": 1,
              "state": "finished",
              "livy_statement_state": "available",
              "queued_time": "2022-11-01T02:04:02.9333058Z",
              "session_start_time": "2022-11-01T02:04:02.9691974Z",
              "execution_start_time": "2022-11-01T02:07:20.2308777Z",
              "execution_finish_time": "2022-11-01T02:07:27.237591Z",
              "spark_jobs": null
            },
            "text/plain": "StatementMeta(sparkctprdnc, 5, 1, Finished, Available)"
          },
          "metadata": {}
        },
        {
          "output_type": "stream",
          "name": "stdout",
          "text": [
            "'PYARROW_IGNORE_TIMEZONE' environment variable was not set. It is required to set this environment variable to '1' in both driver and executor sides if you use pyarrow>=2.0.0. pandas-on-Spark will set it for you but it does not work if there is a Spark context already launched.\n"
          ]
        }
      ],
      "metadata": {
        "jupyter": {
          "source_hidden": false,
          "outputs_hidden": false
        },
        "nteract": {
          "transient": {
            "deleting": false
          }
        }
      },
      "source": [
        "import pyspark.pandas as ps"
      ]
    },
    {
      "cell_type": "markdown",
      "metadata": {
        "nteract": {
          "transient": {
            "deleting": false
          }
        }
      },
      "source": [
        "### Combine UPC files for Silver layer"
      ]
    },
    {
      "cell_type": "code",
      "execution_count": 2,
      "outputs": [
        {
          "output_type": "display_data",
          "data": {
            "application/vnd.livy.statement-meta+json": {
              "spark_pool": "sparkctprdnc",
              "session_id": "5",
              "statement_id": 2,
              "state": "finished",
              "livy_statement_state": "available",
              "queued_time": "2022-11-01T02:07:30.8499702Z",
              "session_start_time": null,
              "execution_start_time": "2022-11-01T02:07:30.9956013Z",
              "execution_finish_time": "2022-11-01T02:08:04.6562566Z",
              "spark_jobs": null
            },
            "text/plain": "StatementMeta(sparkctprdnc, 5, 2, Finished, Available)"
          },
          "metadata": {}
        }
      ],
      "metadata": {},
      "source": [
        "path = \"abfss://fscustransdevnorthcent@stcustransdevnorthcent.dfs.core.windows.net/bronze/UPC/*/*/*/*.json\"\r\n",
        "sdfUPCBronzeData_raw = spark.read.option(\"Multiline\",\"true\").json(path)\r\n",
        "sdfUPCBronzeData_raw.createOrReplaceTempView(\"vwUPCBronzeData_Raw\")"
      ]
    },
    {
      "cell_type": "code",
      "execution_count": 3,
      "outputs": [
        {
          "output_type": "display_data",
          "data": {
            "application/vnd.livy.statement-meta+json": {
              "spark_pool": "sparkctprdnc",
              "session_id": "5",
              "statement_id": 3,
              "state": "finished",
              "livy_statement_state": "available",
              "queued_time": "2022-11-01T02:08:13.2792859Z",
              "session_start_time": null,
              "execution_start_time": "2022-11-01T02:08:13.4133797Z",
              "execution_finish_time": "2022-11-01T02:08:13.5869753Z",
              "spark_jobs": null
            },
            "text/plain": "StatementMeta(sparkctprdnc, 5, 3, Finished, Available)"
          },
          "metadata": {}
        }
      ],
      "metadata": {
        "jupyter": {
          "source_hidden": false,
          "outputs_hidden": false
        },
        "nteract": {
          "transient": {
            "deleting": false
          }
        },
        "microsoft": {}
      },
      "source": [
        "sqlQuery = \"\"\"\r\n",
        "WITH cteUPCBronzeData_Raw AS (\r\n",
        "    SELECT explode(body) as rowdata \r\n",
        "    FROM vwUPCBronzeData_Raw\r\n",
        ")\r\n",
        "\r\n",
        "SELECT \r\n",
        "     rowdata[\"Policy Number\"] AS PolicyNumber\r\n",
        "    ,rowdata[\"Insured\"] AS Insured\r\n",
        "    ,rowdata[\"Description \"] AS Description\r\n",
        "    ,rowdata[\"Date Sent\"] AS DateSent        \r\n",
        "FROM cteUPCBronzeData_Raw\"\"\""
      ]
    },
    {
      "cell_type": "code",
      "execution_count": 4,
      "outputs": [
        {
          "output_type": "display_data",
          "data": {
            "application/vnd.livy.statement-meta+json": {
              "spark_pool": "sparkctprdnc",
              "session_id": "5",
              "statement_id": 4,
              "state": "finished",
              "livy_statement_state": "available",
              "queued_time": "2022-11-01T02:08:17.5504714Z",
              "session_start_time": null,
              "execution_start_time": "2022-11-01T02:08:17.6735212Z",
              "execution_finish_time": "2022-11-01T02:08:18.2348222Z",
              "spark_jobs": null
            },
            "text/plain": "StatementMeta(sparkctprdnc, 5, 4, Finished, Available)"
          },
          "metadata": {}
        }
      ],
      "metadata": {
        "jupyter": {
          "source_hidden": false,
          "outputs_hidden": false
        },
        "nteract": {
          "transient": {
            "deleting": false
          }
        }
      },
      "source": [
        "sdfUPCBronzeData = spark.sql(sqlQuery)"
      ]
    },
    {
      "cell_type": "code",
      "execution_count": 9,
      "outputs": [
        {
          "output_type": "display_data",
          "data": {
            "application/vnd.livy.statement-meta+json": {
              "spark_pool": "sparkctprdnc",
              "session_id": "5",
              "statement_id": 9,
              "state": "finished",
              "livy_statement_state": "available",
              "queued_time": "2022-11-01T02:23:46.9056042Z",
              "session_start_time": null,
              "execution_start_time": "2022-11-01T02:23:47.038072Z",
              "execution_finish_time": "2022-11-01T02:23:54.4702637Z",
              "spark_jobs": null
            },
            "text/plain": "StatementMeta(sparkctprdnc, 5, 9, Finished, Available)"
          },
          "metadata": {}
        }
      ],
      "metadata": {
        "jupyter": {
          "source_hidden": false,
          "outputs_hidden": false
        },
        "nteract": {
          "transient": {
            "deleting": false
          }
        }
      },
      "source": [
        "path = 'abfss://fscustransdevnorthcent@stcustransdevnorthcent.dfs.core.windows.net/silver/upcsilver_raw'\r\n",
        "sdfUPCBronzeData.write.format(\"delta\").mode(\"overwrite\").save(path)\r\n",
        ""
      ]
    }
  ]
}