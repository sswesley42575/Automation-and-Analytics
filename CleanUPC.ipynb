{
  "nbformat": 4,
  "nbformat_minor": 2,
  "cells": [
    {
      "cell_type": "markdown",
      "metadata": {
        "nteract": {
          "transient": {
            "deleting": false
          }
        }
      },
      "source": [
        "### "
      ]
    },
    {
      "cell_type": "markdown",
      "metadata": {
        "nteract": {
          "transient": {
            "deleting": false
          }
        }
      },
      "source": [
        "### Reading data into spark data frame"
      ]
    },
    {
      "cell_type": "code",
      "execution_count": 1,
      "outputs": [],
      "metadata": {},
      "source": [
        "path = \"abfss://fscustransdevnorthcent@stcustransdevnorthcent.dfs.core.windows.net/silver/upcsilver_raw/\"\r\n",
        "sdfUPC = spark.read.parquet(path)"
      ]
    },
    {
      "cell_type": "markdown",
      "metadata": {
        "nteract": {
          "transient": {
            "deleting": false
          }
        }
      },
      "source": [
        "### Creating a temp view based on the sdfUPC data frame"
      ]
    },
    {
      "cell_type": "code",
      "execution_count": 2,
      "outputs": [],
      "metadata": {
        "jupyter": {
          "source_hidden": false,
          "outputs_hidden": false
        },
        "nteract": {
          "transient": {
            "deleting": false
          }
        },
        "collapsed": false
      },
      "source": [
        "sdfUPC.createOrReplaceTempView(\"vwUPC_raw\")"
      ]
    },
    {
      "cell_type": "markdown",
      "metadata": {
        "nteract": {
          "transient": {
            "deleting": false
          }
        }
      },
      "source": [
        "### "
      ]
    },
    {
      "cell_type": "markdown",
      "metadata": {
        "nteract": {
          "transient": {
            "deleting": false
          }
        }
      },
      "source": [
        "### Creating a temporary view based on vwUPC_raw with modifications\r\n",
        "Added status codes and returned only distinct records in the data set"
      ]
    },
    {
      "cell_type": "code",
      "execution_count": 3,
      "outputs": [],
      "metadata": {
        "jupyter": {
          "source_hidden": false,
          "outputs_hidden": false
        },
        "nteract": {
          "transient": {
            "deleting": false
          }
        },
        "microsoft": {
          "language": "sparksql"
        },
        "collapsed": false
      },
      "source": [
        "%%sql\r\n",
        "CREATE OR REPLACE TEMP VIEW vwUPC\r\n",
        "AS\r\n",
        "\r\n",
        "WITH cteUPC AS (\r\n",
        "    SELECT \r\n",
        "         u.PolicyNumber\r\n",
        "        ,u.Insured\r\n",
        "        ,u.Description\r\n",
        "        ,u.DateSent\r\n",
        "        ,CASE\r\n",
        "            WHEN description = 'Dec Page' THEN 'NEW'\r\n",
        "            WHEN description = 'Amended Dec Page' THEN 'AMENDED'\r\n",
        "            WHEN description = 'Renewal Offer' THEN 'OFFER'\r\n",
        "            WHEN description = 'Notice of Lapsed Policy' THEN 'LAPSED'\r\n",
        "            WHEN description = 'Notice of Reinstatement' THEN 'REINSTATED'\r\n",
        "            WHEN description = 'Endorsement Form' THEN 'UPDATE'\r\n",
        "            WHEN description = 'Cancellation Letter' THEN 'CANCELLED'\r\n",
        "            WHEN description = 'Balance Due' THEN 'BALANCE DUE'\r\n",
        "            WHEN description = 'Underwriting Information Request Form' THEN 'PENDING'\r\n",
        "            WHEN description = 'Underwriting Standards Form' THEN 'AT RISK'\r\n",
        "            WHEN description = 'AOR(agent of record) change letter' THEN 'NON-RENEWAL-AOR'\r\n",
        "            WHEN description = 'Binder Cancellation' THEN 'AT RISK'\r\n",
        "        END AS Status\r\n",
        "    FROM vwUPC_raw AS u\r\n",
        ")\r\n",
        "\r\n",
        "SELECT DISTINCT u.* from cteUPC AS u"
      ]
    },
    {
      "cell_type": "code",
      "execution_count": 4,
      "outputs": [],
      "metadata": {
        "jupyter": {
          "source_hidden": false,
          "outputs_hidden": false
        },
        "nteract": {
          "transient": {
            "deleting": false
          }
        },
        "microsoft": {
          "language": "sparksql"
        },
        "collapsed": false
      },
      "source": [
        "%%sql\r\n",
        "USE silver"
      ]
    },
    {
      "cell_type": "code",
      "execution_count": 5,
      "outputs": [],
      "metadata": {
        "jupyter": {
          "source_hidden": false,
          "outputs_hidden": false
        },
        "nteract": {
          "transient": {
            "deleting": false
          }
        },
        "microsoft": {
          "language": "sparksql"
        },
        "collapsed": false
      },
      "source": [
        "%%sql \r\n",
        "INSERT INTO combine_data(agency_number, insured, company, date, policy_number, status)\r\n",
        "SELECT \r\n",
        "'21266' AS agency_number\r\n",
        ",insured\r\n",
        ",'UPC' AS company\r\n",
        ",date_format(to_date(datesent, 'MM/dd/yyyy'),'yyyyMMdd') as date\r\n",
        ",PolicyNumber AS policy_number\r\n",
        ",status\r\n",
        "FROM vwUPC\r\n",
        ""
      ]
    },
    {
      "cell_type": "code",
      "execution_count": null,
      "outputs": [],
      "metadata": {
        "jupyter": {
          "source_hidden": false,
          "outputs_hidden": false
        },
        "nteract": {
          "transient": {
            "deleting": false
          }
        }
      },
      "source": [
        ""
      ]
    }
  ],
  "metadata": {
    "description": null,
    "save_output": true,
    "kernelspec": {
      "name": "synapse_pyspark",
      "display_name": "Synapse PySpark"
    },
    "language_info": {
      "name": "python"
    }
  }
}