{
  "nbformat": 4,
  "nbformat_minor": 2,
  "metadata": {
    "kernelspec": {
      "name": "synapse_pyspark",
      "display_name": "Synapse PySpark"
    },
    "language_info": {
      "name": "python"
    },
    "description": null,
    "save_output": true,
    "synapse_widget": {
      "version": "0.1",
      "state": {}
    }
  },
  "cells": [
    {
      "cell_type": "code",
      "execution_count": 2,
      "outputs": [
        {
          "output_type": "display_data",
          "data": {
            "application/vnd.livy.statement-meta+json": {
              "spark_pool": "sparkctprdnc",
              "session_id": "0",
              "statement_id": 2,
              "state": "finished",
              "livy_statement_state": "available",
              "queued_time": "2022-10-31T01:35:22.6341491Z",
              "session_start_time": null,
              "execution_start_time": "2022-10-31T01:35:22.7816987Z",
              "execution_finish_time": "2022-10-31T01:35:22.952671Z",
              "spark_jobs": null
            },
            "text/plain": "StatementMeta(sparkctprdnc, 0, 2, Finished, Available)"
          },
          "metadata": {}
        }
      ],
      "metadata": {},
      "source": [
        "import pyspark.pandas as ps\r\n",
        "\r\n",
        "path = \"abfss://fscustransdevnorthcent@stcustransdevnorthcent.dfs.core.windows.net/bronze/Nationwide/\""
      ]
    },
    {
      "cell_type": "code",
      "execution_count": 3,
      "outputs": [
        {
          "output_type": "display_data",
          "data": {
            "application/vnd.livy.statement-meta+json": {
              "spark_pool": "sparkctprdnc",
              "session_id": "0",
              "statement_id": 3,
              "state": "finished",
              "livy_statement_state": "available",
              "queued_time": "2022-10-31T01:35:36.388179Z",
              "session_start_time": null,
              "execution_start_time": "2022-10-31T01:35:36.5486591Z",
              "execution_finish_time": "2022-10-31T01:35:36.7286757Z",
              "spark_jobs": null
            },
            "text/plain": "StatementMeta(sparkctprdnc, 0, 3, Finished, Available)"
          },
          "metadata": {}
        }
      ],
      "metadata": {
        "jupyter": {
          "source_hidden": false,
          "outputs_hidden": false
        },
        "nteract": {
          "transient": {
            "deleting": false
          }
        }
      },
      "source": [
        "def deep_ls(path: str, max_depth=4):\r\n",
        "    \"\"\"\r\n",
        "    List all files and folders in specified path and\r\n",
        "    subfolders within maximum recursion depth.\r\n",
        "    \"\"\"\r\n",
        "\r\n",
        "    # List all files in path\r\n",
        "    li = mssparkutils.fs.ls(path)\r\n",
        "\r\n",
        "    # Return all files\r\n",
        "    for x in li:\r\n",
        "        if x.size != 0:\r\n",
        "            yield x\r\n",
        "\r\n",
        "    # If the max_depth has not been reached, start\r\n",
        "    # listing files and folders in subdirectories\r\n",
        "    if max_depth > 1:\r\n",
        "        for x in li:\r\n",
        "            if x.size != 0:\r\n",
        "                continue\r\n",
        "            for y in deep_ls(x.path, max_depth - 1):\r\n",
        "                yield y\r\n",
        "\r\n",
        "    # If max_depth has been reached,\r\n",
        "    # return the folders\r\n",
        "    else:\r\n",
        "        for x in li:\r\n",
        "            if x.size == 0:\r\n",
        "                yield x\r\n",
        " # If the max_depth has not been reached, start\r\n",
        "    # listing files and folders in subdirectories\r\n",
        "    if max_depth > 1:\r\n",
        "        for x in li:\r\n",
        "            if x.size != 0:\r\n",
        "                continue\r\n",
        "            for y in deep_ls(x.path, max_depth - 1):\r\n",
        "                yield y\r\n",
        "\r\n",
        "    # If max_depth has been reached,\r\n",
        "    # return the folders\r\n",
        "    else:\r\n",
        "        for x in li:\r\n",
        "            if x.size == 0:\r\n",
        "                yield x\r\n",
        ""
      ]
    },
    {
      "cell_type": "code",
      "execution_count": 4,
      "outputs": [
        {
          "output_type": "display_data",
          "data": {
            "application/vnd.livy.statement-meta+json": {
              "spark_pool": "sparkctprdnc",
              "session_id": "0",
              "statement_id": 4,
              "state": "finished",
              "livy_statement_state": "available",
              "queued_time": "2022-10-31T01:35:43.6628375Z",
              "session_start_time": null,
              "execution_start_time": "2022-10-31T01:35:43.7942729Z",
              "execution_finish_time": "2022-10-31T01:35:49.2611398Z",
              "spark_jobs": null
            },
            "text/plain": "StatementMeta(sparkctprdnc, 0, 4, Finished, Available)"
          },
          "metadata": {}
        }
      ],
      "metadata": {
        "jupyter": {
          "source_hidden": false,
          "outputs_hidden": false
        },
        "nteract": {
          "transient": {
            "deleting": false
          }
        }
      },
      "source": [
        "files = []\r\n",
        "files_generator = deep_ls(path)\r\n",
        "for file in files_generator:\r\n",
        "    files.append(file)"
      ]
    },
    {
      "cell_type": "code",
      "execution_count": 5,
      "outputs": [
        {
          "output_type": "display_data",
          "data": {
            "application/vnd.livy.statement-meta+json": {
              "spark_pool": "sparkctprdnc",
              "session_id": "0",
              "statement_id": 5,
              "state": "finished",
              "livy_statement_state": "available",
              "queued_time": "2022-10-31T01:36:27.7867858Z",
              "session_start_time": null,
              "execution_start_time": "2022-10-31T01:36:27.9178648Z",
              "execution_finish_time": "2022-10-31T01:37:10.0357253Z",
              "spark_jobs": null
            },
            "text/plain": "StatementMeta(sparkctprdnc, 0, 5, Finished, Available)"
          },
          "metadata": {}
        },
        {
          "output_type": "stream",
          "name": "stderr",
          "text": [
            "/home/trusted-service-user/cluster-env/env/lib/python3.8/site-packages/openpyxl/styles/stylesheet.py:221: UserWarning: Workbook contains no default style, apply openpyxl's default\n  warn(\"Workbook contains no default style, apply openpyxl's default\")\n"
          ]
        }
      ],
      "metadata": {
        "jupyter": {
          "source_hidden": false,
          "outputs_hidden": false
        },
        "nteract": {
          "transient": {
            "deleting": false
          }
        }
      },
      "source": [
        "dataframe_list = []\r\n",
        "for file in files:\r\n",
        "    path_name = int(file.name.replace(\".xlsx\",\"\"))\r\n",
        "    spdf = ps.read_excel(file.path, skiprows =1)\r\n",
        "    spdf[\"date_int\"] = path_name\r\n",
        "    dataframe_list.append(spdf)\r\n",
        ""
      ]
    },
    {
      "cell_type": "code",
      "execution_count": 22,
      "outputs": [
        {
          "output_type": "display_data",
          "data": {
            "application/vnd.livy.statement-meta+json": {
              "spark_pool": "sparkctprdnc",
              "session_id": "0",
              "statement_id": 22,
              "state": "finished",
              "livy_statement_state": "available",
              "queued_time": "2022-10-31T01:56:03.9025435Z",
              "session_start_time": null,
              "execution_start_time": "2022-10-31T01:56:04.0424332Z",
              "execution_finish_time": "2022-10-31T01:56:05.1687062Z",
              "spark_jobs": null
            },
            "text/plain": "StatementMeta(sparkctprdnc, 0, 22, Finished, Available)"
          },
          "metadata": {}
        }
      ],
      "metadata": {
        "jupyter": {
          "source_hidden": false,
          "outputs_hidden": false
        },
        "nteract": {
          "transient": {
            "deleting": false
          }
        }
      },
      "source": [
        "spdfNationwideSilver = ps.concat(dataframe_list)\r\n",
        "spdfNationwideSilver.reset_index(inplace = True)"
      ]
    },
    {
      "cell_type": "code",
      "execution_count": 30,
      "outputs": [
        {
          "output_type": "display_data",
          "data": {
            "application/vnd.livy.statement-meta+json": {
              "spark_pool": "sparkctprdnc",
              "session_id": "0",
              "statement_id": 30,
              "state": "finished",
              "livy_statement_state": "available",
              "queued_time": "2022-10-31T02:04:33.3821652Z",
              "session_start_time": null,
              "execution_start_time": "2022-10-31T02:04:33.5088858Z",
              "execution_finish_time": "2022-10-31T02:04:33.7138406Z",
              "spark_jobs": null
            },
            "text/plain": "StatementMeta(sparkctprdnc, 0, 30, Finished, Available)"
          },
          "metadata": {}
        }
      ],
      "metadata": {
        "jupyter": {
          "source_hidden": false,
          "outputs_hidden": false
        },
        "nteract": {
          "transient": {
            "deleting": false
          }
        }
      },
      "source": [
        "new_names = ['idx', 'AgencyNumber', 'NotificationType', 'DateVal', 'Insured',\r\n",
        "       'BillingAccountNumber', 'Policy', 'Status', 'CancelDate', 'Company',\r\n",
        "       'PaymentAcceptanceDate', 'TotalBalance', 'MinimumDue',\r\n",
        "       'NonSufficientFunds', 'DateReinstated', 'CancellationMailed',\r\n",
        "       'dateint']\r\n",
        "spdfNationwideSilver.columns = new_names"
      ]
    },
    {
      "cell_type": "code",
      "execution_count": 31,
      "outputs": [
        {
          "output_type": "display_data",
          "data": {
            "application/vnd.livy.statement-meta+json": {
              "spark_pool": "sparkctprdnc",
              "session_id": "0",
              "statement_id": 31,
              "state": "finished",
              "livy_statement_state": "available",
              "queued_time": "2022-10-31T02:04:37.4160051Z",
              "session_start_time": null,
              "execution_start_time": "2022-10-31T02:04:37.5361807Z",
              "execution_finish_time": "2022-10-31T02:04:37.7236415Z",
              "spark_jobs": null
            },
            "text/plain": "StatementMeta(sparkctprdnc, 0, 31, Finished, Available)"
          },
          "metadata": {}
        }
      ],
      "metadata": {
        "jupyter": {
          "source_hidden": false,
          "outputs_hidden": false
        },
        "nteract": {
          "transient": {
            "deleting": false
          }
        }
      },
      "source": [
        "sdfNationwideSilver = spdfNationwideSilver.to_spark()"
      ]
    },
    {
      "cell_type": "code",
      "execution_count": 32,
      "outputs": [
        {
          "output_type": "display_data",
          "data": {
            "application/vnd.livy.statement-meta+json": {
              "spark_pool": "sparkctprdnc",
              "session_id": "0",
              "statement_id": 32,
              "state": "finished",
              "livy_statement_state": "available",
              "queued_time": "2022-10-31T02:04:40.2382925Z",
              "session_start_time": null,
              "execution_start_time": "2022-10-31T02:04:40.3660763Z",
              "execution_finish_time": "2022-10-31T02:05:05.828349Z",
              "spark_jobs": null
            },
            "text/plain": "StatementMeta(sparkctprdnc, 0, 32, Finished, Available)"
          },
          "metadata": {}
        }
      ],
      "metadata": {
        "jupyter": {
          "source_hidden": false,
          "outputs_hidden": false
        },
        "nteract": {
          "transient": {
            "deleting": false
          }
        }
      },
      "source": [
        "path = \"abfss://fscustransdevnorthcent@stcustransdevnorthcent.dfs.core.windows.net/silver/nationwide\"\r\n",
        "sdfNationwideSilver.write.format(\"delta\").option(\"overwrite\",\"true\").save(path)"
      ]
    },
    {
      "cell_type": "code",
      "execution_count": null,
      "outputs": [],
      "metadata": {
        "jupyter": {
          "source_hidden": false,
          "outputs_hidden": false
        },
        "nteract": {
          "transient": {
            "deleting": false
          }
        }
      },
      "source": []
    }
  ]
}