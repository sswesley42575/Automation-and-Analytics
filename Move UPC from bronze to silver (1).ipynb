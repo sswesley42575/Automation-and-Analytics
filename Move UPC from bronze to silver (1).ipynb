{
  "nbformat": 4,
  "nbformat_minor": 2,
  "cells": [
    {
      "cell_type": "markdown",
      "metadata": {
        "nteract": {
          "transient": {
            "deleting": false
          }
        }
      },
      "source": [
        "## Import Pandas package"
      ]
    },
    {
      "cell_type": "code",
      "execution_count": 4,
      "outputs": [],
      "metadata": {
        "jupyter": {
          "source_hidden": false,
          "outputs_hidden": false
        },
        "nteract": {
          "transient": {
            "deleting": false
          }
        }
      },
      "source": [
        "import pyspark.pandas as ps"
      ]
    },
    {
      "cell_type": "markdown",
      "metadata": {
        "nteract": {
          "transient": {
            "deleting": false
          }
        }
      },
      "source": [
        "# Silver layer \r\n",
        "## Combine UPC files into 1 data frame.  Create temp SQL view to run SQL.\r\n",
        ""
      ]
    },
    {
      "cell_type": "code",
      "execution_count": 5,
      "outputs": [],
      "metadata": {},
      "source": [
        "path = \"abfss://fscustransdevnorthcent@stcustransdevnorthcent.dfs.core.windows.net/bronze/UPC/*/*/*/*.json\"\r\n",
        "sdfUPCBronzeData_raw = spark.read.option(\"Multiline\",\"true\").json(path)\r\n",
        "sdfUPCBronzeData_raw.createOrReplaceTempView(\"vwUPCBronzeData_Raw\")"
      ]
    },
    {
      "cell_type": "markdown",
      "metadata": {
        "nteract": {
          "transient": {
            "deleting": false
          }
        }
      },
      "source": [
        "## Store data in object.  explode rows into individual roecords with column headings"
      ]
    },
    {
      "cell_type": "code",
      "execution_count": 6,
      "outputs": [],
      "metadata": {
        "jupyter": {
          "source_hidden": false,
          "outputs_hidden": false
        },
        "nteract": {
          "transient": {
            "deleting": false
          }
        },
        "microsoft": {}
      },
      "source": [
        "sqlQuery = \"\"\"\r\n",
        "WITH cteUPCBronzeData_Raw AS (\r\n",
        "    SELECT explode(body) as rowdata \r\n",
        "    FROM vwUPCBronzeData_Raw\r\n",
        ")\r\n",
        "\r\n",
        "SELECT \r\n",
        "     rowdata[\"Policy Number\"] AS PolicyNumber\r\n",
        "    ,rowdata[\"Insured\"] AS Insured\r\n",
        "    ,rowdata[\"Description \"] AS Description\r\n",
        "    ,rowdata[\"Date Sent\"] AS DateSent        \r\n",
        "FROM cteUPCBronzeData_Raw\"\"\""
      ]
    },
    {
      "cell_type": "markdown",
      "metadata": {
        "nteract": {
          "transient": {
            "deleting": false
          }
        }
      },
      "source": [
        "## Convert from pandas to spark data frame"
      ]
    },
    {
      "cell_type": "code",
      "execution_count": 7,
      "outputs": [],
      "metadata": {
        "jupyter": {
          "source_hidden": false,
          "outputs_hidden": false
        },
        "nteract": {
          "transient": {
            "deleting": false
          }
        }
      },
      "source": [
        "sdfUPCBronzeData = spark.sql(sqlQuery)"
      ]
    },
    {
      "cell_type": "markdown",
      "metadata": {
        "nteract": {
          "transient": {
            "deleting": false
          }
        }
      },
      "source": [
        "### Save contents of data frame into Delta format"
      ]
    },
    {
      "cell_type": "code",
      "execution_count": 14,
      "outputs": [],
      "metadata": {
        "jupyter": {
          "source_hidden": false,
          "outputs_hidden": false
        },
        "nteract": {
          "transient": {
            "deleting": false
          }
        }
      },
      "source": [
        "path = 'abfss://fscustransdevnorthcent@stcustransdevnorthcent.dfs.core.windows.net/silver/upcsilver_raw'\r\n",
        "try:\r\n",
        "    mssparkutils.fs.rm(path, recurse=True)\r\n",
        "except Exception as e:\r\n",
        "    pass\r\n",
        "\r\n",
        "sdfUPCBronzeData.write.format(\"delta\").mode(\"overwrite\").save(path)\r\n",
        ""
      ]
    },
    {
      "cell_type": "code",
      "execution_count": null,
      "outputs": [],
      "metadata": {
        "jupyter": {
          "source_hidden": false,
          "outputs_hidden": false
        },
        "nteract": {
          "transient": {
            "deleting": false
          }
        }
      },
      "source": [
        ""
      ]
    }
  ],
  "metadata": {
    "description": null,
    "save_output": true,
    "kernelspec": {
      "name": "synapse_pyspark",
      "display_name": "Synapse PySpark"
    },
    "language_info": {
      "name": "python"
    }
  }
}