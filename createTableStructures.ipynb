{
  "nbformat": 4,
  "nbformat_minor": 2,
  "cells": [
    {
      "cell_type": "markdown",
      "metadata": {
        "nteract": {
          "transient": {
            "deleting": false
          }
        }
      },
      "source": [
        "## Create tables for gold and silver databases and sets data types for attributes"
      ]
    },
    {
      "cell_type": "code",
      "execution_count": 10,
      "outputs": [],
      "metadata": {
        "microsoft": {},
        "collapsed": false
      },
      "source": [
        "use silver;\r\n",
        "\r\n",
        "CREATE TABLE combine_data (\r\n",
        " agency_number varchar(5)\r\n",
        ",insured varchar(255)\r\n",
        ",company varchar(50)\r\n",
        ",date CHAR(8)\r\n",
        ",policy_number varchar(25)\r\n",
        ",status varchar(15)\r\n",
        ")\r\n",
        "USING DELTA\r\n",
        "LOCATION 'abfss://fscustransdevnorthcent@stcustransdevnorthcent.dfs.core.windows.net/silver/Combined/'"
      ]
    },
    {
      "cell_type": "code",
      "execution_count": 5,
      "outputs": [],
      "metadata": {
        "jupyter": {
          "source_hidden": false,
          "outputs_hidden": false
        },
        "nteract": {
          "transient": {
            "deleting": false
          }
        },
        "microsoft": {},
        "collapsed": false
      },
      "source": [
        "use silver\r\n",
        "CREATE TABLE combine_data_withkeys (\r\n",
        " DimKey INT\r\n",
        ",agency_number varchar(5)\r\n",
        ",insured varchar(255)\r\n",
        ",company varchar(50)\r\n",
        ",date CHAR(8)\r\n",
        ",policy_number varchar(25)\r\n",
        ",status varchar(15)\r\n",
        ")\r\n",
        "USING DELTA\r\n",
        "LOCATION 'abfss://fscustransdevnorthcent@stcustransdevnorthcent.dfs.core.windows.net/silver/Combined_withkeys/'"
      ]
    },
    {
      "cell_type": "code",
      "execution_count": 12,
      "outputs": [],
      "metadata": {
        "jupyter": {
          "source_hidden": false,
          "outputs_hidden": false
        },
        "nteract": {
          "transient": {
            "deleting": false
          }
        },
        "collapsed": false
      },
      "source": [
        "USE gold;\r\n",
        "\r\n",
        "CREATE TABLE dim_entity (\r\n",
        " DimKey INT\r\n",
        ",agency_number varchar(5)\r\n",
        ",insured varchar(255)\r\n",
        ",company varchar(50)\r\n",
        ")\r\n",
        "USING DELTA\r\n",
        "LOCATION 'abfss://fscustransdevnorthcent@stcustransdevnorthcent.dfs.core.windows.net/gold/dim_entity/'"
      ]
    },
    {
      "cell_type": "code",
      "execution_count": 13,
      "outputs": [],
      "metadata": {
        "jupyter": {
          "source_hidden": false,
          "outputs_hidden": false
        },
        "nteract": {
          "transient": {
            "deleting": false
          }
        },
        "collapsed": false
      },
      "source": [
        "USE gold;\r\n",
        "\r\n",
        "CREATE TABLE factless_fact (\r\n",
        "     DimKey INT\r\n",
        "    ,date CHAR(8)\r\n",
        "    ,policy_number varchar(25)\r\n",
        "    ,status varchar(15)\r\n",
        ")\r\n",
        "USING DELTA\r\n",
        "LOCATION 'abfss://fscustransdevnorthcent@stcustransdevnorthcent.dfs.core.windows.net/gold/factless_fact/'"
      ]
    },
    {
      "cell_type": "code",
      "execution_count": null,
      "outputs": [],
      "metadata": {
        "jupyter": {
          "source_hidden": false,
          "outputs_hidden": false
        },
        "nteract": {
          "transient": {
            "deleting": false
          }
        }
      },
      "source": [
        ""
      ]
    }
  ],
  "metadata": {
    "description": null,
    "save_output": true,
    "kernelspec": {
      "name": "synapse_sparksql",
      "display_name": "sql"
    },
    "language_info": {
      "name": "sql"
    }
  }
}