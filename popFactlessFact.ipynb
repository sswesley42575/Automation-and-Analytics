{
  "nbformat": 4,
  "nbformat_minor": 2,
  "cells": [
    {
      "cell_type": "markdown",
      "metadata": {
        "nteract": {
          "transient": {
            "deleting": false
          }
        }
      },
      "source": [
        "## Delete data from factless dimension table in the gold database"
      ]
    },
    {
      "cell_type": "code",
      "execution_count": 2,
      "outputs": [],
      "metadata": {
        "collapsed": false
      },
      "source": [
        "DELETE FROM gold.factless_fact\r\n",
        ""
      ]
    },
    {
      "cell_type": "markdown",
      "metadata": {
        "nteract": {
          "transient": {
            "deleting": false
          }
        }
      },
      "source": [
        "## Insert combined data from silver folder into fact dimension table "
      ]
    },
    {
      "cell_type": "code",
      "execution_count": 3,
      "outputs": [],
      "metadata": {
        "jupyter": {
          "source_hidden": false,
          "outputs_hidden": false
        },
        "nteract": {
          "transient": {
            "deleting": false
          }
        },
        "collapsed": false
      },
      "source": [
        "INSERT INTO gold.factless_fact(\r\n",
        "     DimKey\r\n",
        "    ,date\r\n",
        "    ,policy_number\r\n",
        "    ,status\r\n",
        ")\r\n",
        "SELECT\r\n",
        "     DimKey\r\n",
        "    ,date\r\n",
        "    ,policy_number\r\n",
        "    ,status\r\n",
        "FROM silver.combine_data_withkeys"
      ]
    },
    {
      "cell_type": "code",
      "execution_count": null,
      "outputs": [],
      "metadata": {
        "jupyter": {
          "source_hidden": false,
          "outputs_hidden": false
        },
        "nteract": {
          "transient": {
            "deleting": false
          }
        }
      },
      "source": [
        ""
      ]
    }
  ],
  "metadata": {
    "description": null,
    "save_output": true,
    "kernelspec": {
      "name": "synapse_sparksql",
      "display_name": "sql"
    },
    "language_info": {
      "name": "sql"
    }
  }
}