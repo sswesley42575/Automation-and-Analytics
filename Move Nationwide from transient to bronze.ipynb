{
  "nbformat": 4,
  "nbformat_minor": 2,
  "metadata": {
    "kernelspec": {
      "name": "synapse_pyspark",
      "display_name": "Synapse PySpark"
    },
    "language_info": {
      "name": "python"
    },
    "description": null,
    "save_output": true,
    "synapse_widget": {
      "version": "0.1",
      "state": {}
    }
  },
  "cells": [
    {
      "cell_type": "markdown",
      "metadata": {
        "nteract": {
          "transient": {
            "deleting": false
          }
        }
      },
      "source": [
        "### Import required modules"
      ]
    },
    {
      "cell_type": "code",
      "execution_count": 1,
      "outputs": [
        {
          "output_type": "display_data",
          "data": {
            "application/vnd.livy.statement-meta+json": {
              "spark_pool": "sparkctprdncb",
              "session_id": "19",
              "statement_id": 1,
              "state": "finished",
              "livy_statement_state": "available",
              "queued_time": "2022-10-31T23:15:20.0824021Z",
              "session_start_time": "2022-10-31T23:15:20.1324809Z",
              "execution_start_time": "2022-10-31T23:18:30.313465Z",
              "execution_finish_time": "2022-10-31T23:18:30.4984868Z",
              "spark_jobs": null
            },
            "text/plain": "StatementMeta(sparkctprdncb, 19, 1, Finished, Available)"
          },
          "metadata": {}
        }
      ],
      "metadata": {
        "jupyter": {
          "source_hidden": false,
          "outputs_hidden": false
        },
        "nteract": {
          "transient": {
            "deleting": false
          }
        }
      },
      "source": [
        "from datetime import datetime"
      ]
    },
    {
      "cell_type": "markdown",
      "metadata": {
        "nteract": {
          "transient": {
            "deleting": false
          }
        }
      },
      "source": [
        "### Define rootpath of the transient source and bronze destination"
      ]
    },
    {
      "cell_type": "code",
      "execution_count": 3,
      "outputs": [
        {
          "output_type": "display_data",
          "data": {
            "application/vnd.livy.statement-meta+json": {
              "spark_pool": "sparkctprdncb",
              "session_id": "0",
              "statement_id": 2,
              "state": "finished",
              "livy_statement_state": "available",
              "queued_time": "2022-10-23T00:36:52.0716782Z",
              "session_start_time": null,
              "execution_start_time": "2022-10-23T00:36:52.2410389Z",
              "execution_finish_time": "2022-10-23T00:36:52.4117978Z",
              "spark_jobs": null
            },
            "text/plain": "StatementMeta(sparkctprdncb, 0, 2, Finished, Available)"
          },
          "metadata": {}
        }
      ],
      "metadata": {},
      "source": [
        "transientpath = 'abfss://fscustransdevnorthcent@stcustransdevnorthcent.dfs.core.windows.net/transient/Nationwide/'\r\n",
        "bronzepath = 'abfss://fscustransdevnorthcent@stcustransdevnorthcent.dfs.core.windows.net/bronze/Nationwide/'"
      ]
    },
    {
      "cell_type": "markdown",
      "metadata": {
        "nteract": {
          "transient": {
            "deleting": false
          }
        }
      },
      "source": [
        "### Creates a list that holds information about the files in the transient folder"
      ]
    },
    {
      "cell_type": "code",
      "execution_count": 4,
      "outputs": [
        {
          "output_type": "display_data",
          "data": {
            "application/vnd.livy.statement-meta+json": {
              "spark_pool": "sparkctprdncb",
              "session_id": "0",
              "statement_id": 3,
              "state": "finished",
              "livy_statement_state": "available",
              "queued_time": "2022-10-23T00:37:24.782056Z",
              "session_start_time": null,
              "execution_start_time": "2022-10-23T00:37:24.9246272Z",
              "execution_finish_time": "2022-10-23T00:37:29.0390746Z",
              "spark_jobs": null
            },
            "text/plain": "StatementMeta(sparkctprdncb, 0, 3, Finished, Available)"
          },
          "metadata": {}
        }
      ],
      "metadata": {
        "jupyter": {
          "source_hidden": false,
          "outputs_hidden": false
        },
        "nteract": {
          "transient": {
            "deleting": false
          }
        }
      },
      "source": [
        "files = mssparkutils.fs.ls(transientpath)"
      ]
    },
    {
      "cell_type": "markdown",
      "metadata": {
        "nteract": {
          "transient": {
            "deleting": false
          }
        }
      },
      "source": [
        "### Moves the files from the transient layer to the appropriate location in the bronze zone"
      ]
    },
    {
      "cell_type": "code",
      "execution_count": 8,
      "outputs": [
        {
          "output_type": "display_data",
          "data": {
            "application/vnd.livy.statement-meta+json": {
              "spark_pool": "sparkctprdncb",
              "session_id": "0",
              "statement_id": 7,
              "state": "finished",
              "livy_statement_state": "available",
              "queued_time": "2022-10-23T00:47:34.0720379Z",
              "session_start_time": null,
              "execution_start_time": "2022-10-23T00:47:34.1940031Z",
              "execution_finish_time": "2022-10-23T00:47:35.3256818Z",
              "spark_jobs": null
            },
            "text/plain": "StatementMeta(sparkctprdncb, 0, 7, Finished, Available)"
          },
          "metadata": {}
        }
      ],
      "metadata": {
        "jupyter": {
          "source_hidden": false,
          "outputs_hidden": false
        },
        "nteract": {
          "transient": {
            "deleting": false
          }
        }
      },
      "source": [
        "for file in files:\r\n",
        "    extractname = file.name.replace(\".xlsx\",\"\")\r\n",
        "    parsedate = datetime.strptime(extractname, \"%Y%m%d\")\r\n",
        "    destpath = bronzepath + \"{}/{}/{}/{}\".format(parsedate.year, parsedate.month, parsedate.day, file.name)\r\n",
        "    mssparkutils.fs.mv(file.path, destpath, True)"
      ]
    }
  ]
}