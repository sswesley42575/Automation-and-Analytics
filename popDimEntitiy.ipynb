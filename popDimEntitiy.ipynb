{
  "nbformat": 4,
  "nbformat_minor": 2,
  "cells": [
    {
      "cell_type": "markdown",
      "metadata": {
        "nteract": {
          "transient": {
            "deleting": false
          }
        }
      },
      "source": [
        "## Delete data from dim entity table in gold database "
      ]
    },
    {
      "cell_type": "code",
      "execution_count": 9,
      "outputs": [],
      "metadata": {
        "collapsed": false
      },
      "source": [
        "DELETE FROM gold.dim_entity\r\n",
        ""
      ]
    },
    {
      "cell_type": "markdown",
      "metadata": {
        "nteract": {
          "transient": {
            "deleting": false
          }
        }
      },
      "source": [
        "## Insert combined data from silver folder into entity dimension table "
      ]
    },
    {
      "cell_type": "code",
      "execution_count": 16,
      "outputs": [],
      "metadata": {
        "jupyter": {
          "source_hidden": false,
          "outputs_hidden": false
        },
        "nteract": {
          "transient": {
            "deleting": false
          }
        },
        "collapsed": false
      },
      "source": [
        "INSERT INTO gold.dim_entity(\r\n",
        "     DimKey\r\n",
        "    ,agency_number\r\n",
        "    ,insured\r\n",
        "    ,company\r\n",
        ")\r\n",
        "SELECT DISTINCT\r\n",
        "     DimKey\r\n",
        "    ,agency_number\r\n",
        "    ,insured\r\n",
        "    ,company\r\n",
        "FROM silver.combine_data_withkeys"
      ]
    },
    {
      "cell_type": "code",
      "execution_count": null,
      "outputs": [],
      "metadata": {
        "jupyter": {
          "source_hidden": false,
          "outputs_hidden": false
        },
        "nteract": {
          "transient": {
            "deleting": false
          }
        }
      },
      "source": [
        ""
      ]
    }
  ],
  "metadata": {
    "description": null,
    "save_output": true,
    "kernelspec": {
      "name": "synapse_sparksql",
      "display_name": "sql"
    },
    "language_info": {
      "name": "sql"
    }
  }
}