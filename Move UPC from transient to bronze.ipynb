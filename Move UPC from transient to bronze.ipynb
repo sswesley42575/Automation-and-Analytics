{
  "cells": [
    {
      "cell_type": "markdown",
      "metadata": {
        "nteract": {
          "transient": {
            "deleting": false
          }
        }
      },
      "source": [
        "### Import required modules"
      ]
    },
    {
      "cell_type": "code",
      "execution_count": 1,
      "metadata": {
        "jupyter": {
          "outputs_hidden": false,
          "source_hidden": false
        },
        "nteract": {
          "transient": {
            "deleting": false
          }
        }
      },
      "outputs": [
        {
          "data": {
            "application/vnd.livy.statement-meta+json": {
              "execution_finish_time": "2022-11-01T02:00:36.2682613Z",
              "execution_start_time": "2022-11-01T02:00:36.0878015Z",
              "livy_statement_state": "available",
              "queued_time": "2022-11-01T01:57:33.6938614Z",
              "session_id": "2",
              "session_start_time": "2022-11-01T01:57:33.7324374Z",
              "spark_jobs": null,
              "spark_pool": "sparkcluster",
              "state": "finished",
              "statement_id": 1
            },
            "text/plain": [
              "StatementMeta(sparkcluster, 2, 1, Finished, Available)"
            ]
          },
          "metadata": {},
          "output_type": "display_data"
        }
      ],
      "source": [
        "from datetime import datetime"
      ]
    },
    {
      "cell_type": "code",
      "execution_count": null,
      "metadata": {},
      "outputs": [],
      "source": []
    },
    {
      "cell_type": "markdown",
      "metadata": {
        "nteract": {
          "transient": {
            "deleting": false
          }
        }
      },
      "source": [
        "### Define rootpath of the transient source and bronze destination"
      ]
    },
    {
      "cell_type": "code",
      "execution_count": 3,
      "metadata": {},
      "outputs": [
        {
          "data": {
            "application/vnd.livy.statement-meta+json": {
              "execution_finish_time": "2022-11-01T02:01:46.6633439Z",
              "execution_start_time": "2022-11-01T02:01:46.4901902Z",
              "livy_statement_state": "available",
              "queued_time": "2022-11-01T02:01:46.3176245Z",
              "session_id": "2",
              "session_start_time": null,
              "spark_jobs": null,
              "spark_pool": "sparkcluster",
              "state": "finished",
              "statement_id": 3
            },
            "text/plain": [
              "StatementMeta(sparkcluster, 2, 3, Finished, Available)"
            ]
          },
          "metadata": {},
          "output_type": "display_data"
        }
      ],
      "source": [
        "transientpath = 'abfss://fscustransdevnorthcent@stcustransdevnorthcent.dfs.core.windows.net/transient/UPC/'\n",
        "bronzepath = 'abfss://fscustransdevnorthcent@stcustransdevnorthcent.dfs.core.windows.net/bronze/UPC/'"
      ]
    },
    {
      "cell_type": "markdown",
      "metadata": {
        "nteract": {
          "transient": {
            "deleting": false
          }
        }
      },
      "source": [
        "### Creates a list that holds information about the files in the transient folder"
      ]
    },
    {
      "cell_type": "code",
      "execution_count": 4,
      "metadata": {
        "jupyter": {
          "outputs_hidden": false,
          "source_hidden": false
        },
        "nteract": {
          "transient": {
            "deleting": false
          }
        }
      },
      "outputs": [
        {
          "data": {
            "application/vnd.livy.statement-meta+json": {
              "execution_finish_time": "2022-11-01T02:02:01.6865762Z",
              "execution_start_time": "2022-11-01T02:01:57.6448159Z",
              "livy_statement_state": "available",
              "queued_time": "2022-11-01T02:01:57.5172967Z",
              "session_id": "2",
              "session_start_time": null,
              "spark_jobs": null,
              "spark_pool": "sparkcluster",
              "state": "finished",
              "statement_id": 4
            },
            "text/plain": [
              "StatementMeta(sparkcluster, 2, 4, Finished, Available)"
            ]
          },
          "metadata": {},
          "output_type": "display_data"
        }
      ],
      "source": [
        "files = mssparkutils.fs.ls(transientpath)"
      ]
    },
    {
      "cell_type": "markdown",
      "metadata": {
        "nteract": {
          "transient": {
            "deleting": false
          }
        }
      },
      "source": [
        "### Moves the files from the transient layer to the appropriate location in the bronze zone"
      ]
    },
    {
      "cell_type": "code",
      "execution_count": 5,
      "metadata": {
        "jupyter": {
          "outputs_hidden": false,
          "source_hidden": false
        },
        "nteract": {
          "transient": {
            "deleting": false
          }
        }
      },
      "outputs": [
        {
          "data": {
            "application/vnd.livy.statement-meta+json": {
              "execution_finish_time": "2022-11-01T02:02:09.2747699Z",
              "execution_start_time": "2022-11-01T02:02:08.0928307Z",
              "livy_statement_state": "available",
              "queued_time": "2022-11-01T02:02:07.9560107Z",
              "session_id": "2",
              "session_start_time": null,
              "spark_jobs": null,
              "spark_pool": "sparkcluster",
              "state": "finished",
              "statement_id": 5
            },
            "text/plain": [
              "StatementMeta(sparkcluster, 2, 5, Finished, Available)"
            ]
          },
          "metadata": {},
          "output_type": "display_data"
        }
      ],
      "source": [
        "for file in files:\n",
        "    extractname_raw = file.name.replace(\".json\",\"\")\n",
        "    extractname = extractname_raw[0:8]\n",
        "    parsedate = datetime.strptime(extractname, \"%Y%m%d\")\n",
        "    destpath = bronzepath + \"{}/{}/{}/{}\".format(parsedate.year, parsedate.month, parsedate.day, file.name)\n",
        "    mssparkutils.fs.mv(file.path, destpath, True)"
      ]
    }
  ],
  "metadata": {
    "description": null,
    "kernelspec": {
      "display_name": "Synapse PySpark",
      "name": "synapse_pyspark"
    },
    "language_info": {
      "name": "python"
    },
    "save_output": true,
    "synapse_widget": {
      "state": {},
      "version": "0.1"
    }
  },
  "nbformat": 4,
  "nbformat_minor": 2
}
