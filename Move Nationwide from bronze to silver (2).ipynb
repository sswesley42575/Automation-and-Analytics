{
  "nbformat": 4,
  "nbformat_minor": 2,
  "cells": [
    {
      "cell_type": "markdown",
      "metadata": {
        "nteract": {
          "transient": {
            "deleting": false
          }
        }
      },
      "source": [
        "## Import Pandas package"
      ]
    },
    {
      "cell_type": "code",
      "execution_count": 32,
      "outputs": [],
      "metadata": {},
      "source": [
        "import pyspark.pandas as ps\r\n",
        "\r\n",
        "path = \"abfss://fscustransdevnorthcent@stcustransdevnorthcent.dfs.core.windows.net/bronze/Nationwide/\""
      ]
    },
    {
      "cell_type": "markdown",
      "metadata": {
        "nteract": {
          "transient": {
            "deleting": false
          }
        }
      },
      "source": [
        "## Function for listing all files in a group folder**"
      ]
    },
    {
      "cell_type": "code",
      "execution_count": 33,
      "outputs": [],
      "metadata": {
        "jupyter": {
          "source_hidden": false,
          "outputs_hidden": false
        },
        "nteract": {
          "transient": {
            "deleting": false
          }
        }
      },
      "source": [
        "def deep_ls(path: str, max_depth=4):\r\n",
        "    \"\"\"\r\n",
        "    List all files and folders in specified path and\r\n",
        "    subfolders within maximum recursion depth.\r\n",
        "    \"\"\"\r\n",
        "\r\n",
        "    # List all files in path\r\n",
        "    li = mssparkutils.fs.ls(path)\r\n",
        "\r\n",
        "    # Return all files\r\n",
        "    for x in li:\r\n",
        "        if x.size != 0:\r\n",
        "            yield x\r\n",
        "\r\n",
        "    # If the max_depth has not been reached, start\r\n",
        "    # listing files and folders in subdirectories\r\n",
        "    if max_depth > 1:\r\n",
        "        for x in li:\r\n",
        "            if x.size != 0:\r\n",
        "                continue\r\n",
        "            for y in deep_ls(x.path, max_depth - 1):\r\n",
        "                yield y\r\n",
        "\r\n",
        "    # If max_depth has been reached,\r\n",
        "    # return the folders\r\n",
        "    else:\r\n",
        "        for x in li:\r\n",
        "            if x.size == 0:\r\n",
        "                yield x\r\n",
        " # If the max_depth has not been reached, start\r\n",
        "    # listing files and folders in subdirectories\r\n",
        "    if max_depth > 1:\r\n",
        "        for x in li:\r\n",
        "            if x.size != 0:\r\n",
        "                continue\r\n",
        "            for y in deep_ls(x.path, max_depth - 1):\r\n",
        "                yield y\r\n",
        "\r\n",
        "    # If max_depth has been reached,\r\n",
        "    # return the folders\r\n",
        "    else:\r\n",
        "        for x in li:\r\n",
        "            if x.size == 0:\r\n",
        "                yield x\r\n",
        ""
      ]
    },
    {
      "cell_type": "markdown",
      "metadata": {
        "nteract": {
          "transient": {
            "deleting": false
          }
        }
      },
      "source": [
        "### Create a list of all excel files in bronze folder"
      ]
    },
    {
      "cell_type": "markdown",
      "metadata": {
        "nteract": {
          "transient": {
            "deleting": false
          }
        }
      },
      "source": [
        ""
      ]
    },
    {
      "cell_type": "code",
      "execution_count": 34,
      "outputs": [],
      "metadata": {
        "jupyter": {
          "source_hidden": false,
          "outputs_hidden": false
        },
        "nteract": {
          "transient": {
            "deleting": false
          }
        }
      },
      "source": [
        "files = []\r\n",
        "files_generator = deep_ls(path)\r\n",
        "for file in files_generator:\r\n",
        "    files.append(file)"
      ]
    },
    {
      "cell_type": "markdown",
      "metadata": {
        "nteract": {
          "transient": {
            "deleting": false
          }
        }
      },
      "source": [
        "### Create a list of data frames that has data for each excel file"
      ]
    },
    {
      "cell_type": "code",
      "execution_count": 35,
      "outputs": [],
      "metadata": {
        "jupyter": {
          "source_hidden": false,
          "outputs_hidden": false
        },
        "nteract": {
          "transient": {
            "deleting": false
          }
        }
      },
      "source": [
        "dataframe_list = []\r\n",
        "for file in files:\r\n",
        "    path_name = int(file.name.replace(\".xlsx\",\"\"))\r\n",
        "    spdf = ps.read_excel(file.path, skiprows =1)\r\n",
        "    spdf[\"date_int\"] = path_name\r\n",
        "    dataframe_list.append(spdf)\r\n",
        ""
      ]
    },
    {
      "cell_type": "markdown",
      "metadata": {
        "nteract": {
          "transient": {
            "deleting": false
          }
        }
      },
      "source": [
        "### Collapse all tables into one data frame"
      ]
    },
    {
      "cell_type": "markdown",
      "metadata": {
        "nteract": {
          "transient": {
            "deleting": false
          }
        }
      },
      "source": [
        ""
      ]
    },
    {
      "cell_type": "code",
      "execution_count": 36,
      "outputs": [],
      "metadata": {
        "jupyter": {
          "source_hidden": false,
          "outputs_hidden": false
        },
        "nteract": {
          "transient": {
            "deleting": false
          }
        }
      },
      "source": [
        "spdfNationwideSilver = ps.concat(dataframe_list)\r\n",
        "spdfNationwideSilver.reset_index(inplace = True)"
      ]
    },
    {
      "cell_type": "markdown",
      "metadata": {
        "nteract": {
          "transient": {
            "deleting": false
          }
        }
      },
      "source": [
        "### Rename columns with more appropriate names"
      ]
    },
    {
      "cell_type": "code",
      "execution_count": 37,
      "outputs": [],
      "metadata": {
        "jupyter": {
          "source_hidden": false,
          "outputs_hidden": false
        },
        "nteract": {
          "transient": {
            "deleting": false
          }
        }
      },
      "source": [
        "new_names = ['idx', 'AgencyNumber', 'NotificationType', 'DateVal', 'Insured',\r\n",
        "       'BillingAccountNumber', 'Policy', 'Status', 'CancelDate', 'Company',\r\n",
        "       'PaymentAcceptanceDate', 'TotalBalance', 'MinimumDue',\r\n",
        "       'NonSufficientFunds', 'DateReinstated', 'CancellationMailed',\r\n",
        "       'dateint']\r\n",
        "spdfNationwideSilver.columns = new_names"
      ]
    },
    {
      "cell_type": "markdown",
      "metadata": {
        "nteract": {
          "transient": {
            "deleting": false
          }
        }
      },
      "source": [
        "### Convert from pandas to spark data frame"
      ]
    },
    {
      "cell_type": "code",
      "execution_count": 38,
      "outputs": [],
      "metadata": {
        "jupyter": {
          "source_hidden": false,
          "outputs_hidden": false
        },
        "nteract": {
          "transient": {
            "deleting": false
          }
        }
      },
      "source": [
        "sdfNationwideSilver = spdfNationwideSilver.to_spark()"
      ]
    },
    {
      "cell_type": "markdown",
      "metadata": {
        "nteract": {
          "transient": {
            "deleting": false
          }
        }
      },
      "source": [
        "### Save contents of data frame into Delta format"
      ]
    },
    {
      "cell_type": "code",
      "execution_count": 39,
      "outputs": [],
      "metadata": {
        "jupyter": {
          "source_hidden": false,
          "outputs_hidden": false
        },
        "nteract": {
          "transient": {
            "deleting": false
          }
        }
      },
      "source": [
        "path = \"abfss://fscustransdevnorthcent@stcustransdevnorthcent.dfs.core.windows.net/silver/nationwide\"\r\n",
        "try:\r\n",
        "    mssparkutils.fs.rm(path, recurse=True)\r\n",
        "except Exception as e:\r\n",
        "    pass\r\n",
        "sdfNationwideSilver.write.format(\"delta\").option(\"overwrite\",\"true\").save(path)"
      ]
    },
    {
      "cell_type": "code",
      "execution_count": null,
      "outputs": [],
      "metadata": {
        "jupyter": {
          "source_hidden": false,
          "outputs_hidden": false
        },
        "nteract": {
          "transient": {
            "deleting": false
          }
        }
      },
      "source": [
        ""
      ]
    }
  ],
  "metadata": {
    "description": null,
    "save_output": true,
    "kernelspec": {
      "name": "synapse_pyspark",
      "display_name": "Synapse PySpark"
    },
    "language_info": {
      "name": "python"
    }
  }
}